{
 "cells": [
  {
   "cell_type": "code",
   "execution_count": 70,
   "metadata": {},
   "outputs": [],
   "source": [
    "import numpy as np\n",
    "import scipy\n",
    "import pandas as pd\n",
    "import math\n",
    "import random\n",
    "import sklearn\n",
    "from nltk.corpus import stopwords\n",
    "from sklearn.model_selection import train_test_split\n",
    "from sklearn.feature_extraction.text import TfidfVectorizer\n",
    "from sklearn.metrics.pairwise import cosine_similarity\n",
    "from scipy.sparse.linalg import svds\n",
    "import matplotlib.pyplot as plt"
   ]
  },
  {
   "cell_type": "markdown",
   "metadata": {},
   "source": [
    "# Load Data"
   ]
  },
  {
   "cell_type": "code",
   "execution_count": 136,
   "metadata": {},
   "outputs": [],
   "source": [
    "# store music dataset from 1991 to 2018\n",
    "music_data = pd.DataFrame()\n",
    "for i in range(1991, 2019):\n",
    "    temp = pd.read_csv('https://raw.githubusercontent.com/z22741/RecommenderSys/master/spotify_data/music_data/'+str(i)+'.csv', index_col=0)\n",
    "    music_data = pd.concat([music_data, temp], axis=0, ignore_index=True)"
   ]
  },
  {
   "cell_type": "code",
   "execution_count": 137,
   "metadata": {},
   "outputs": [],
   "source": [
    "# store 3 user data dataset \n",
    "user_data = pd.DataFrame()\n",
    "for i in range(50,125,25):\n",
    "    temp = pd.read_csv('https://raw.githubusercontent.com/z22741/RecommenderSys/master/spotify_data/user_data/alpha'+str(i)+'.csv', index_col=0)\n",
    "    user_data = pd.concat([user_data, temp], axis=0, ignore_index=True)"
   ]
  },
  {
   "cell_type": "code",
   "execution_count": 138,
   "metadata": {},
   "outputs": [],
   "source": [
    "db_data = pd.read_csv('https://raw.githubusercontent.com/z22741/RecommenderSys/master/spotify_data/user_data/database.csv')"
   ]
  },
  {
   "cell_type": "code",
   "execution_count": 152,
   "metadata": {},
   "outputs": [
    {
     "data": {
      "text/html": [
       "<div>\n",
       "<style scoped>\n",
       "    .dataframe tbody tr th:only-of-type {\n",
       "        vertical-align: middle;\n",
       "    }\n",
       "\n",
       "    .dataframe tbody tr th {\n",
       "        vertical-align: top;\n",
       "    }\n",
       "\n",
       "    .dataframe thead th {\n",
       "        text-align: right;\n",
       "    }\n",
       "</style>\n",
       "<table border=\"1\" class=\"dataframe\">\n",
       "  <thead>\n",
       "    <tr style=\"text-align: right;\">\n",
       "      <th></th>\n",
       "      <th>acousticness</th>\n",
       "      <th>danceability</th>\n",
       "      <th>energy</th>\n",
       "      <th>instrumentalness</th>\n",
       "      <th>key</th>\n",
       "      <th>liveness</th>\n",
       "      <th>loudness</th>\n",
       "      <th>mode</th>\n",
       "      <th>song_id</th>\n",
       "      <th>speechiness</th>\n",
       "      <th>tempo</th>\n",
       "      <th>valence</th>\n",
       "    </tr>\n",
       "  </thead>\n",
       "  <tbody>\n",
       "    <tr>\n",
       "      <th>0</th>\n",
       "      <td>0.1080</td>\n",
       "      <td>0.602</td>\n",
       "      <td>0.553</td>\n",
       "      <td>0.000000</td>\n",
       "      <td>11</td>\n",
       "      <td>0.0512</td>\n",
       "      <td>-9.336</td>\n",
       "      <td>1</td>\n",
       "      <td>5xlS0QkVrSH7ssEbBgBzbM</td>\n",
       "      <td>0.0328</td>\n",
       "      <td>130.594</td>\n",
       "      <td>0.9710</td>\n",
       "    </tr>\n",
       "    <tr>\n",
       "      <th>1</th>\n",
       "      <td>0.4250</td>\n",
       "      <td>0.611</td>\n",
       "      <td>0.566</td>\n",
       "      <td>0.000954</td>\n",
       "      <td>9</td>\n",
       "      <td>0.8780</td>\n",
       "      <td>-11.715</td>\n",
       "      <td>1</td>\n",
       "      <td>4gdhsYfXJoVQsWpbmh32Da</td>\n",
       "      <td>0.0295</td>\n",
       "      <td>125.240</td>\n",
       "      <td>0.6390</td>\n",
       "    </tr>\n",
       "    <tr>\n",
       "      <th>2</th>\n",
       "      <td>0.0468</td>\n",
       "      <td>0.737</td>\n",
       "      <td>0.801</td>\n",
       "      <td>0.888000</td>\n",
       "      <td>0</td>\n",
       "      <td>0.1050</td>\n",
       "      <td>-9.058</td>\n",
       "      <td>1</td>\n",
       "      <td>3oixYd5Q41mfwfwpc2LuYx</td>\n",
       "      <td>0.0344</td>\n",
       "      <td>145.003</td>\n",
       "      <td>0.8590</td>\n",
       "    </tr>\n",
       "    <tr>\n",
       "      <th>3</th>\n",
       "      <td>0.9480</td>\n",
       "      <td>0.340</td>\n",
       "      <td>0.265</td>\n",
       "      <td>0.815000</td>\n",
       "      <td>8</td>\n",
       "      <td>0.0899</td>\n",
       "      <td>-7.477</td>\n",
       "      <td>1</td>\n",
       "      <td>0pNu2I9Jbio4lLVO6H0lE1</td>\n",
       "      <td>0.0284</td>\n",
       "      <td>110.588</td>\n",
       "      <td>0.0866</td>\n",
       "    </tr>\n",
       "    <tr>\n",
       "      <th>4</th>\n",
       "      <td>0.6300</td>\n",
       "      <td>0.587</td>\n",
       "      <td>0.493</td>\n",
       "      <td>0.000000</td>\n",
       "      <td>8</td>\n",
       "      <td>0.2240</td>\n",
       "      <td>-8.368</td>\n",
       "      <td>1</td>\n",
       "      <td>0z5E34e7ZT3XKMYQNXh6tH</td>\n",
       "      <td>0.0296</td>\n",
       "      <td>131.727</td>\n",
       "      <td>0.2100</td>\n",
       "    </tr>\n",
       "  </tbody>\n",
       "</table>\n",
       "</div>"
      ],
      "text/plain": [
       "   acousticness  danceability  energy  instrumentalness  key  liveness  \\\n",
       "0        0.1080         0.602   0.553          0.000000   11    0.0512   \n",
       "1        0.4250         0.611   0.566          0.000954    9    0.8780   \n",
       "2        0.0468         0.737   0.801          0.888000    0    0.1050   \n",
       "3        0.9480         0.340   0.265          0.815000    8    0.0899   \n",
       "4        0.6300         0.587   0.493          0.000000    8    0.2240   \n",
       "\n",
       "   loudness  mode                 song_id  speechiness    tempo  valence  \n",
       "0    -9.336     1  5xlS0QkVrSH7ssEbBgBzbM       0.0328  130.594   0.9710  \n",
       "1   -11.715     1  4gdhsYfXJoVQsWpbmh32Da       0.0295  125.240   0.6390  \n",
       "2    -9.058     1  3oixYd5Q41mfwfwpc2LuYx       0.0344  145.003   0.8590  \n",
       "3    -7.477     1  0pNu2I9Jbio4lLVO6H0lE1       0.0284  110.588   0.0866  \n",
       "4    -8.368     1  0z5E34e7ZT3XKMYQNXh6tH       0.0296  131.727   0.2100  "
      ]
     },
     "execution_count": 152,
     "metadata": {},
     "output_type": "execute_result"
    }
   ],
   "source": [
    "music_data.head()"
   ]
  },
  {
   "cell_type": "code",
   "execution_count": 139,
   "metadata": {},
   "outputs": [
    {
     "data": {
      "text/html": [
       "<div>\n",
       "<style scoped>\n",
       "    .dataframe tbody tr th:only-of-type {\n",
       "        vertical-align: middle;\n",
       "    }\n",
       "\n",
       "    .dataframe tbody tr th {\n",
       "        vertical-align: top;\n",
       "    }\n",
       "\n",
       "    .dataframe thead th {\n",
       "        text-align: right;\n",
       "    }\n",
       "</style>\n",
       "<table border=\"1\" class=\"dataframe\">\n",
       "  <thead>\n",
       "    <tr style=\"text-align: right;\">\n",
       "      <th></th>\n",
       "      <th>danceability</th>\n",
       "      <th>energy</th>\n",
       "      <th>key</th>\n",
       "      <th>loudness</th>\n",
       "      <th>mode</th>\n",
       "      <th>speechiness</th>\n",
       "      <th>acousticness</th>\n",
       "      <th>instrumentalness</th>\n",
       "      <th>liveness</th>\n",
       "      <th>valence</th>\n",
       "      <th>tempo</th>\n",
       "      <th>user_session</th>\n",
       "      <th>user_response</th>\n",
       "      <th>user_id</th>\n",
       "      <th>database_id</th>\n",
       "    </tr>\n",
       "  </thead>\n",
       "  <tbody>\n",
       "    <tr>\n",
       "      <th>0</th>\n",
       "      <td>0.327</td>\n",
       "      <td>0.6860</td>\n",
       "      <td>10</td>\n",
       "      <td>-11.835</td>\n",
       "      <td>0</td>\n",
       "      <td>0.1610</td>\n",
       "      <td>0.16300</td>\n",
       "      <td>0.194</td>\n",
       "      <td>0.9480</td>\n",
       "      <td>0.631</td>\n",
       "      <td>172.790</td>\n",
       "      <td>1</td>\n",
       "      <td>1</td>\n",
       "      <td>0</td>\n",
       "      <td>5bb7ac8a0c27ee4c381dd70a</td>\n",
       "    </tr>\n",
       "    <tr>\n",
       "      <th>1</th>\n",
       "      <td>0.659</td>\n",
       "      <td>0.5880</td>\n",
       "      <td>6</td>\n",
       "      <td>-9.262</td>\n",
       "      <td>0</td>\n",
       "      <td>0.0300</td>\n",
       "      <td>0.41300</td>\n",
       "      <td>0.159</td>\n",
       "      <td>0.1120</td>\n",
       "      <td>0.561</td>\n",
       "      <td>143.021</td>\n",
       "      <td>1</td>\n",
       "      <td>0</td>\n",
       "      <td>0</td>\n",
       "      <td>5bb7ac8a0c27ee4c381dd70d</td>\n",
       "    </tr>\n",
       "    <tr>\n",
       "      <th>2</th>\n",
       "      <td>0.333</td>\n",
       "      <td>0.0797</td>\n",
       "      <td>10</td>\n",
       "      <td>-14.597</td>\n",
       "      <td>1</td>\n",
       "      <td>0.0360</td>\n",
       "      <td>0.97000</td>\n",
       "      <td>0.000</td>\n",
       "      <td>0.1120</td>\n",
       "      <td>0.221</td>\n",
       "      <td>176.535</td>\n",
       "      <td>1</td>\n",
       "      <td>0</td>\n",
       "      <td>0</td>\n",
       "      <td>5bb7ac930c27ee4c381dd9c7</td>\n",
       "    </tr>\n",
       "    <tr>\n",
       "      <th>3</th>\n",
       "      <td>0.367</td>\n",
       "      <td>0.7690</td>\n",
       "      <td>9</td>\n",
       "      <td>-7.258</td>\n",
       "      <td>1</td>\n",
       "      <td>0.0317</td>\n",
       "      <td>0.00032</td>\n",
       "      <td>0.628</td>\n",
       "      <td>0.0631</td>\n",
       "      <td>0.700</td>\n",
       "      <td>173.186</td>\n",
       "      <td>1</td>\n",
       "      <td>1</td>\n",
       "      <td>0</td>\n",
       "      <td>5bb7ac8a0c27ee4c381dd703</td>\n",
       "    </tr>\n",
       "    <tr>\n",
       "      <th>4</th>\n",
       "      <td>0.443</td>\n",
       "      <td>0.8510</td>\n",
       "      <td>7</td>\n",
       "      <td>-3.809</td>\n",
       "      <td>1</td>\n",
       "      <td>0.2180</td>\n",
       "      <td>0.08560</td>\n",
       "      <td>0.000</td>\n",
       "      <td>0.4990</td>\n",
       "      <td>0.693</td>\n",
       "      <td>170.346</td>\n",
       "      <td>1</td>\n",
       "      <td>1</td>\n",
       "      <td>0</td>\n",
       "      <td>5bb7ac9a0c27ee4c381ddbab</td>\n",
       "    </tr>\n",
       "  </tbody>\n",
       "</table>\n",
       "</div>"
      ],
      "text/plain": [
       "   danceability  energy  key  loudness  mode  speechiness  acousticness  \\\n",
       "0         0.327  0.6860   10   -11.835     0       0.1610       0.16300   \n",
       "1         0.659  0.5880    6    -9.262     0       0.0300       0.41300   \n",
       "2         0.333  0.0797   10   -14.597     1       0.0360       0.97000   \n",
       "3         0.367  0.7690    9    -7.258     1       0.0317       0.00032   \n",
       "4         0.443  0.8510    7    -3.809     1       0.2180       0.08560   \n",
       "\n",
       "   instrumentalness  liveness  valence    tempo  user_session  user_response  \\\n",
       "0             0.194    0.9480    0.631  172.790             1              1   \n",
       "1             0.159    0.1120    0.561  143.021             1              0   \n",
       "2             0.000    0.1120    0.221  176.535             1              0   \n",
       "3             0.628    0.0631    0.700  173.186             1              1   \n",
       "4             0.000    0.4990    0.693  170.346             1              1   \n",
       "\n",
       "   user_id               database_id  \n",
       "0        0  5bb7ac8a0c27ee4c381dd70a  \n",
       "1        0  5bb7ac8a0c27ee4c381dd70d  \n",
       "2        0  5bb7ac930c27ee4c381dd9c7  \n",
       "3        0  5bb7ac8a0c27ee4c381dd703  \n",
       "4        0  5bb7ac9a0c27ee4c381ddbab  "
      ]
     },
     "execution_count": 139,
     "metadata": {},
     "output_type": "execute_result"
    }
   ],
   "source": [
    "user_data.head()"
   ]
  },
  {
   "cell_type": "code",
   "execution_count": 161,
   "metadata": {},
   "outputs": [
    {
     "data": {
      "text/html": [
       "<div>\n",
       "<style scoped>\n",
       "    .dataframe tbody tr th:only-of-type {\n",
       "        vertical-align: middle;\n",
       "    }\n",
       "\n",
       "    .dataframe tbody tr th {\n",
       "        vertical-align: top;\n",
       "    }\n",
       "\n",
       "    .dataframe thead th {\n",
       "        text-align: right;\n",
       "    }\n",
       "</style>\n",
       "<table border=\"1\" class=\"dataframe\">\n",
       "  <thead>\n",
       "    <tr style=\"text-align: right;\">\n",
       "      <th></th>\n",
       "      <th>database_id</th>\n",
       "      <th>spotify_id</th>\n",
       "      <th>song_name</th>\n",
       "      <th>preview_url</th>\n",
       "      <th>danceability</th>\n",
       "      <th>energy</th>\n",
       "      <th>key</th>\n",
       "      <th>loudness</th>\n",
       "      <th>mode</th>\n",
       "      <th>speechiness</th>\n",
       "      <th>acousticness</th>\n",
       "      <th>instrumentalness</th>\n",
       "      <th>liveness</th>\n",
       "      <th>valence</th>\n",
       "      <th>tempo</th>\n",
       "    </tr>\n",
       "  </thead>\n",
       "  <tbody>\n",
       "    <tr>\n",
       "      <th>0</th>\n",
       "      <td>5bb7ac890c27ee4c381dd69e</td>\n",
       "      <td>0bxllxzqkGNSKo8pHtZyA3</td>\n",
       "      <td>E.T.</td>\n",
       "      <td>https://p.scdn.co/mp3-preview/b010313e8fbd71b1...</td>\n",
       "      <td>0.626</td>\n",
       "      <td>0.457</td>\n",
       "      <td>8</td>\n",
       "      <td>-9.091</td>\n",
       "      <td>0</td>\n",
       "      <td>0.0339</td>\n",
       "      <td>0.0876</td>\n",
       "      <td>0.000077</td>\n",
       "      <td>0.0801</td>\n",
       "      <td>0.2230</td>\n",
       "      <td>149.990</td>\n",
       "    </tr>\n",
       "    <tr>\n",
       "      <th>1</th>\n",
       "      <td>5bb7ac890c27ee4c381dd69f</td>\n",
       "      <td>362LzQDbfNdZDuv37BIEkG</td>\n",
       "      <td>Song For Zula - Live From Spotify London</td>\n",
       "      <td>https://p.scdn.co/mp3-preview/f85a3283dc9d614c...</td>\n",
       "      <td>0.441</td>\n",
       "      <td>0.344</td>\n",
       "      <td>4</td>\n",
       "      <td>-9.799</td>\n",
       "      <td>1</td>\n",
       "      <td>0.0299</td>\n",
       "      <td>0.3860</td>\n",
       "      <td>0.000277</td>\n",
       "      <td>0.9170</td>\n",
       "      <td>0.1110</td>\n",
       "      <td>87.588</td>\n",
       "    </tr>\n",
       "    <tr>\n",
       "      <th>2</th>\n",
       "      <td>5bb7ac890c27ee4c381dd6a0</td>\n",
       "      <td>3AqPL1n1wKc5DVFFnYuJhp</td>\n",
       "      <td>To Build A Home</td>\n",
       "      <td>https://p.scdn.co/mp3-preview/b39e590a07f73f93...</td>\n",
       "      <td>0.264</td>\n",
       "      <td>0.128</td>\n",
       "      <td>9</td>\n",
       "      <td>-15.443</td>\n",
       "      <td>1</td>\n",
       "      <td>0.0340</td>\n",
       "      <td>0.8850</td>\n",
       "      <td>0.352000</td>\n",
       "      <td>0.1050</td>\n",
       "      <td>0.0774</td>\n",
       "      <td>148.499</td>\n",
       "    </tr>\n",
       "    <tr>\n",
       "      <th>3</th>\n",
       "      <td>5bb7ac890c27ee4c381dd6a1</td>\n",
       "      <td>7sDzAu7alAL1hWvL86tSGB</td>\n",
       "      <td>Sweater Weather - Spotify Sessions Curated by ...</td>\n",
       "      <td>https://p.scdn.co/mp3-preview/bed9e182c4c5af6b...</td>\n",
       "      <td>0.610</td>\n",
       "      <td>0.165</td>\n",
       "      <td>8</td>\n",
       "      <td>-14.659</td>\n",
       "      <td>1</td>\n",
       "      <td>0.0502</td>\n",
       "      <td>0.9810</td>\n",
       "      <td>0.000544</td>\n",
       "      <td>0.1340</td>\n",
       "      <td>0.2580</td>\n",
       "      <td>102.680</td>\n",
       "    </tr>\n",
       "    <tr>\n",
       "      <th>4</th>\n",
       "      <td>5bb7ac890c27ee4c381dd6a2</td>\n",
       "      <td>7LVHVU3tWfcxj5aiPFEW4Q</td>\n",
       "      <td>Fix You</td>\n",
       "      <td>https://p.scdn.co/mp3-preview/b1640815319b2df5...</td>\n",
       "      <td>0.209</td>\n",
       "      <td>0.418</td>\n",
       "      <td>3</td>\n",
       "      <td>-8.740</td>\n",
       "      <td>1</td>\n",
       "      <td>0.0338</td>\n",
       "      <td>0.1630</td>\n",
       "      <td>0.001950</td>\n",
       "      <td>0.1130</td>\n",
       "      <td>0.1230</td>\n",
       "      <td>138.265</td>\n",
       "    </tr>\n",
       "  </tbody>\n",
       "</table>\n",
       "</div>"
      ],
      "text/plain": [
       "                database_id              spotify_id  \\\n",
       "0  5bb7ac890c27ee4c381dd69e  0bxllxzqkGNSKo8pHtZyA3   \n",
       "1  5bb7ac890c27ee4c381dd69f  362LzQDbfNdZDuv37BIEkG   \n",
       "2  5bb7ac890c27ee4c381dd6a0  3AqPL1n1wKc5DVFFnYuJhp   \n",
       "3  5bb7ac890c27ee4c381dd6a1  7sDzAu7alAL1hWvL86tSGB   \n",
       "4  5bb7ac890c27ee4c381dd6a2  7LVHVU3tWfcxj5aiPFEW4Q   \n",
       "\n",
       "                                           song_name  \\\n",
       "0                                               E.T.   \n",
       "1           Song For Zula - Live From Spotify London   \n",
       "2                                    To Build A Home   \n",
       "3  Sweater Weather - Spotify Sessions Curated by ...   \n",
       "4                                            Fix You   \n",
       "\n",
       "                                         preview_url  danceability  energy  \\\n",
       "0  https://p.scdn.co/mp3-preview/b010313e8fbd71b1...         0.626   0.457   \n",
       "1  https://p.scdn.co/mp3-preview/f85a3283dc9d614c...         0.441   0.344   \n",
       "2  https://p.scdn.co/mp3-preview/b39e590a07f73f93...         0.264   0.128   \n",
       "3  https://p.scdn.co/mp3-preview/bed9e182c4c5af6b...         0.610   0.165   \n",
       "4  https://p.scdn.co/mp3-preview/b1640815319b2df5...         0.209   0.418   \n",
       "\n",
       "   key  loudness  mode  speechiness  acousticness  instrumentalness  liveness  \\\n",
       "0    8    -9.091     0       0.0339        0.0876          0.000077    0.0801   \n",
       "1    4    -9.799     1       0.0299        0.3860          0.000277    0.9170   \n",
       "2    9   -15.443     1       0.0340        0.8850          0.352000    0.1050   \n",
       "3    8   -14.659     1       0.0502        0.9810          0.000544    0.1340   \n",
       "4    3    -8.740     1       0.0338        0.1630          0.001950    0.1130   \n",
       "\n",
       "   valence    tempo  \n",
       "0   0.2230  149.990  \n",
       "1   0.1110   87.588  \n",
       "2   0.0774  148.499  \n",
       "3   0.2580  102.680  \n",
       "4   0.1230  138.265  "
      ]
     },
     "execution_count": 161,
     "metadata": {},
     "output_type": "execute_result"
    }
   ],
   "source": [
    "db_data.head()"
   ]
  },
  {
   "cell_type": "markdown",
   "metadata": {},
   "source": [
    "# Drop Col"
   ]
  },
  {
   "cell_type": "code",
   "execution_count": 141,
   "metadata": {},
   "outputs": [],
   "source": [
    "music_to_drop = ['album_id', 'album_name', 'analysis_url', 'artist_ids', 'artist_names', 'disc_number','duration_ms', 'popularity', 'preview_url', 'song_name', 'time_signature', 'track_href', 'track_number']\n",
    "music_data.drop(music_to_drop, inplace=True, axis=1)"
   ]
  },
  {
   "cell_type": "code",
   "execution_count": 142,
   "metadata": {},
   "outputs": [],
   "source": [
    "user_to_drop = ['user_session']\n",
    "user_data.drop(user_to_drop, inplace=True, axis=1)"
   ]
  },
  {
   "cell_type": "code",
   "execution_count": 143,
   "metadata": {},
   "outputs": [
    {
     "data": {
      "text/plain": [
       "['acousticness',\n",
       " 'danceability',\n",
       " 'energy',\n",
       " 'instrumentalness',\n",
       " 'key',\n",
       " 'liveness',\n",
       " 'loudness',\n",
       " 'mode',\n",
       " 'song_id',\n",
       " 'speechiness',\n",
       " 'tempo',\n",
       " 'valence']"
      ]
     },
     "execution_count": 143,
     "metadata": {},
     "output_type": "execute_result"
    }
   ],
   "source": [
    "music_data.columns.values.tolist()\n",
    "# user_data.columns.values.tolist()"
   ]
  },
  {
   "cell_type": "code",
   "execution_count": 144,
   "metadata": {},
   "outputs": [],
   "source": [
    "# sort col\n",
    "music_data = music_data.reindex(sorted(music_data.columns), axis=1)\n",
    "user_data = user_data.reindex(sorted(user_data.columns), axis=1)"
   ]
  },
  {
   "cell_type": "markdown",
   "metadata": {},
   "source": [
    "# Remove Duplicated Data"
   ]
  },
  {
   "cell_type": "code",
   "execution_count": 146,
   "metadata": {},
   "outputs": [
    {
     "data": {
      "text/plain": [
       "False"
      ]
     },
     "execution_count": 146,
     "metadata": {},
     "output_type": "execute_result"
    }
   ],
   "source": [
    "music_data['song_id'].is_unique"
   ]
  },
  {
   "cell_type": "code",
   "execution_count": 147,
   "metadata": {},
   "outputs": [],
   "source": [
    "# music_data.drop(music_data[music_data.duplicated(['song_id'])])\n",
    "music_data = music_data.drop_duplicates(['song_id'], keep='first')"
   ]
  },
  {
   "cell_type": "code",
   "execution_count": 148,
   "metadata": {},
   "outputs": [],
   "source": [
    "user_data = user_data.drop_duplicates(['database_id', 'user_id'], keep='first')"
   ]
  },
  {
   "cell_type": "markdown",
   "metadata": {},
   "source": [
    "# Remove Null Data"
   ]
  },
  {
   "cell_type": "code",
   "execution_count": 149,
   "metadata": {},
   "outputs": [],
   "source": [
    "# music_data[pd.isnull(music_data).any(1)]\n",
    "music_data = music_data.dropna() "
   ]
  },
  {
   "cell_type": "code",
   "execution_count": 150,
   "metadata": {},
   "outputs": [
    {
     "data": {
      "text/plain": [
       "4    433\n",
       "3    415\n",
       "5    405\n",
       "2    361\n",
       "1    338\n",
       "8    329\n",
       "9    328\n",
       "0    312\n",
       "6    290\n",
       "7    244\n",
       "Name: user_id, dtype: int64"
      ]
     },
     "execution_count": 150,
     "metadata": {},
     "output_type": "execute_result"
    }
   ],
   "source": [
    "user_data.user_id.value_counts()"
   ]
  },
  {
   "cell_type": "code",
   "execution_count": 151,
   "metadata": {},
   "outputs": [],
   "source": [
    "# check every song is in db_data\n",
    "for i in user_data.database_id.unique().tolist():\n",
    "    if True not in db_data['database_id'].str.contains(i, regex=True): print(i)"
   ]
  },
  {
   "cell_type": "code",
   "execution_count": 163,
   "metadata": {},
   "outputs": [
    {
     "data": {
      "text/html": [
       "<div>\n",
       "<style scoped>\n",
       "    .dataframe tbody tr th:only-of-type {\n",
       "        vertical-align: middle;\n",
       "    }\n",
       "\n",
       "    .dataframe tbody tr th {\n",
       "        vertical-align: top;\n",
       "    }\n",
       "\n",
       "    .dataframe thead th {\n",
       "        text-align: right;\n",
       "    }\n",
       "</style>\n",
       "<table border=\"1\" class=\"dataframe\">\n",
       "  <thead>\n",
       "    <tr style=\"text-align: right;\">\n",
       "      <th></th>\n",
       "      <th>acousticness</th>\n",
       "      <th>danceability</th>\n",
       "      <th>energy</th>\n",
       "      <th>instrumentalness</th>\n",
       "      <th>key</th>\n",
       "      <th>liveness</th>\n",
       "      <th>loudness</th>\n",
       "      <th>mode</th>\n",
       "      <th>song_id</th>\n",
       "      <th>speechiness</th>\n",
       "      <th>tempo</th>\n",
       "      <th>valence</th>\n",
       "    </tr>\n",
       "  </thead>\n",
       "  <tbody>\n",
       "    <tr>\n",
       "      <th>0</th>\n",
       "      <td>0.108</td>\n",
       "      <td>0.602</td>\n",
       "      <td>0.553</td>\n",
       "      <td>0.0</td>\n",
       "      <td>11</td>\n",
       "      <td>0.0512</td>\n",
       "      <td>-9.336</td>\n",
       "      <td>1</td>\n",
       "      <td>5xlS0QkVrSH7ssEbBgBzbM</td>\n",
       "      <td>0.0328</td>\n",
       "      <td>130.594</td>\n",
       "      <td>0.971</td>\n",
       "    </tr>\n",
       "  </tbody>\n",
       "</table>\n",
       "</div>"
      ],
      "text/plain": [
       "   acousticness  danceability  energy  instrumentalness  key  liveness  \\\n",
       "0         0.108         0.602   0.553               0.0   11    0.0512   \n",
       "\n",
       "   loudness  mode                 song_id  speechiness    tempo  valence  \n",
       "0    -9.336     1  5xlS0QkVrSH7ssEbBgBzbM       0.0328  130.594    0.971  "
      ]
     },
     "execution_count": 163,
     "metadata": {},
     "output_type": "execute_result"
    }
   ],
   "source": [
    "music_data[music_data['song_id'].str.contains('5xlS0QkVrSH7ssEbBgBzbM', regex=True)]"
   ]
  },
  {
   "cell_type": "code",
   "execution_count": 158,
   "metadata": {},
   "outputs": [
    {
     "data": {
      "text/html": [
       "<div>\n",
       "<style scoped>\n",
       "    .dataframe tbody tr th:only-of-type {\n",
       "        vertical-align: middle;\n",
       "    }\n",
       "\n",
       "    .dataframe tbody tr th {\n",
       "        vertical-align: top;\n",
       "    }\n",
       "\n",
       "    .dataframe thead th {\n",
       "        text-align: right;\n",
       "    }\n",
       "</style>\n",
       "<table border=\"1\" class=\"dataframe\">\n",
       "  <thead>\n",
       "    <tr style=\"text-align: right;\">\n",
       "      <th></th>\n",
       "      <th>database_id</th>\n",
       "      <th>spotify_id</th>\n",
       "      <th>song_name</th>\n",
       "      <th>preview_url</th>\n",
       "      <th>danceability</th>\n",
       "      <th>energy</th>\n",
       "      <th>key</th>\n",
       "      <th>loudness</th>\n",
       "      <th>mode</th>\n",
       "      <th>speechiness</th>\n",
       "      <th>acousticness</th>\n",
       "      <th>instrumentalness</th>\n",
       "      <th>liveness</th>\n",
       "      <th>valence</th>\n",
       "      <th>tempo</th>\n",
       "    </tr>\n",
       "  </thead>\n",
       "  <tbody>\n",
       "  </tbody>\n",
       "</table>\n",
       "</div>"
      ],
      "text/plain": [
       "Empty DataFrame\n",
       "Columns: [database_id, spotify_id, song_name, preview_url, danceability, energy, key, loudness, mode, speechiness, acousticness, instrumentalness, liveness, valence, tempo]\n",
       "Index: []"
      ]
     },
     "execution_count": 158,
     "metadata": {},
     "output_type": "execute_result"
    }
   ],
   "source": [
    "db_data[db_data['spotify_id'].str.contains('0z5E34e7ZT3XKMYQNXh6tH', regex=True)]"
   ]
  },
  {
   "cell_type": "code",
   "execution_count": null,
   "metadata": {},
   "outputs": [],
   "source": []
  }
 ],
 "metadata": {
  "kernelspec": {
   "display_name": "Python 3",
   "language": "python",
   "name": "python3"
  },
  "language_info": {
   "codemirror_mode": {
    "name": "ipython",
    "version": 3
   },
   "file_extension": ".py",
   "mimetype": "text/x-python",
   "name": "python",
   "nbconvert_exporter": "python",
   "pygments_lexer": "ipython3",
   "version": "3.6.8"
  }
 },
 "nbformat": 4,
 "nbformat_minor": 2
}
